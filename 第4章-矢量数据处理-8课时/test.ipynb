{
 "cells": [
  {
   "cell_type": "code",
   "execution_count": null,
   "metadata": {},
   "outputs": [],
   "source": []
  },
  {
   "cell_type": "code",
   "execution_count": null,
   "metadata": {},
   "outputs": [],
   "source": []
  },
  {
   "cell_type": "code",
   "execution_count": 3,
   "metadata": {},
   "outputs": [
    {
     "name": "stdout",
     "output_type": "stream",
     "text": [
      "60\n",
      "45\n",
      "86\n",
      "95\n",
      "73\n",
      "优秀同学人数： 1\n"
     ]
    }
   ],
   "source": [
    "list = [60,45,86,95,73]\n",
    "num_perfect =0\n",
    "for student_score in list:\n",
    "    print(student_score)\n",
    "    \n",
    "    if student_score >=90:\n",
    "        num_perfect=num_perfect+1\n",
    "print('优秀同学人数：',num_perfect)\n",
    "\n"
   ]
  },
  {
   "cell_type": "markdown",
   "metadata": {},
   "source": [
    "函数"
   ]
  },
  {
   "cell_type": "code",
   "execution_count": null,
   "metadata": {},
   "outputs": [],
   "source": [
    "scores_math=[60,45,86,95,73]\n",
    "\n",
    "def get_num_perfedt(scores):\n",
    "    num_perfect = 0\n",
    "   for score in scores:\n",
    "      if score >=90:\n",
    "        num_perfect=num_perfect+1\n",
    "    return num_perfect\n",
    "   \n",
    "num_perfect = get_num_perfedt(scores=scores_math)\n",
    "print('优秀同学个数:',num_perfect)"
   ]
  },
  {
   "cell_type": "markdown",
   "metadata": {},
   "source": [
    "###软件包"
   ]
  },
  {
   "cell_type": "code",
   "execution_count": null,
   "metadata": {},
   "outputs": [],
   "source": [
    "import packge.python_module\n",
    "form packge.python_module import num_perfect"
   ]
  },
  {
   "cell_type": "markdown",
   "metadata": {},
   "source": [
    "numpy"
   ]
  },
  {
   "cell_type": "code",
   "execution_count": 4,
   "metadata": {},
   "outputs": [
    {
     "ename": "ModuleNotFoundError",
     "evalue": "No module named 'numpy'",
     "output_type": "error",
     "traceback": [
      "\u001b[1;31m---------------------------------------------------------------------------\u001b[0m",
      "\u001b[1;31mModuleNotFoundError\u001b[0m                       Traceback (most recent call last)",
      "\u001b[1;32me:\\大三上\\开源GIS\\课件\\kaiyuan\\Open-source-GIS-Course\\第4章-矢量数据处理-8课时\\test.ipynb Cell 10\u001b[0m line \u001b[0;36m1\n\u001b[1;32m----> <a href='vscode-notebook-cell:/e%3A/%E5%A4%A7%E4%B8%89%E4%B8%8A/%E5%BC%80%E6%BA%90GIS/%E8%AF%BE%E4%BB%B6/kaiyuan/Open-source-GIS-Course/%E7%AC%AC4%E7%AB%A0-%E7%9F%A2%E9%87%8F%E6%95%B0%E6%8D%AE%E5%A4%84%E7%90%86-8%E8%AF%BE%E6%97%B6/test.ipynb#X14sZmlsZQ%3D%3D?line=0'>1</a>\u001b[0m \u001b[39mimport\u001b[39;00m \u001b[39mnumpy\u001b[39;00m \u001b[39mas\u001b[39;00m \u001b[39mnp\u001b[39;00m\n\u001b[0;32m      <a href='vscode-notebook-cell:/e%3A/%E5%A4%A7%E4%B8%89%E4%B8%8A/%E5%BC%80%E6%BA%90GIS/%E8%AF%BE%E4%BB%B6/kaiyuan/Open-source-GIS-Course/%E7%AC%AC4%E7%AB%A0-%E7%9F%A2%E9%87%8F%E6%95%B0%E6%8D%AE%E5%A4%84%E7%90%86-8%E8%AF%BE%E6%97%B6/test.ipynb#X14sZmlsZQ%3D%3D?line=1'>2</a>\u001b[0m scores_mean\u001b[39m=\u001b[39mnp\u001b[39m.\u001b[39mmean(scores_math)\n\u001b[0;32m      <a href='vscode-notebook-cell:/e%3A/%E5%A4%A7%E4%B8%89%E4%B8%8A/%E5%BC%80%E6%BA%90GIS/%E8%AF%BE%E4%BB%B6/kaiyuan/Open-source-GIS-Course/%E7%AC%AC4%E7%AB%A0-%E7%9F%A2%E9%87%8F%E6%95%B0%E6%8D%AE%E5%A4%84%E7%90%86-8%E8%AF%BE%E6%97%B6/test.ipynb#X14sZmlsZQ%3D%3D?line=2'>3</a>\u001b[0m \u001b[39mprint\u001b[39m(\u001b[39m'\u001b[39m\u001b[39m数学平均成绩\u001b[39m\u001b[39m'\u001b[39m,scores_mean)\n",
      "\u001b[1;31mModuleNotFoundError\u001b[0m: No module named 'numpy'"
     ]
    }
   ],
   "source": [
    "import numpy as np\n",
    "scores_mean=np.mean(scores_math)\n",
    "print('数学平均成绩',scores_mean)"
   ]
  },
  {
   "cell_type": "markdown",
   "metadata": {},
   "source": [
    "模块\n"
   ]
  },
  {
   "cell_type": "code",
   "execution_count": null,
   "metadata": {},
   "outputs": [],
   "source": [
    "import num_perfect"
   ]
  }
 ],
 "metadata": {
  "kernelspec": {
   "display_name": "base",
   "language": "python",
   "name": "python3"
  },
  "language_info": {
   "codemirror_mode": {
    "name": "ipython",
    "version": 3
   },
   "file_extension": ".py",
   "mimetype": "text/x-python",
   "name": "python",
   "nbconvert_exporter": "python",
   "pygments_lexer": "ipython3",
   "version": "3.11.4"
  },
  "orig_nbformat": 4
 },
 "nbformat": 4,
 "nbformat_minor": 2
}
